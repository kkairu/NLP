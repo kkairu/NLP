{
 "cells": [
  {
   "cell_type": "markdown",
   "metadata": {},
   "source": [
    "# NLP Python Libraries\n",
    "\n",
    "## 1. SpaCy"
   ]
  },
  {
   "cell_type": "code",
   "execution_count": 1,
   "metadata": {},
   "outputs": [
    {
     "name": "stdout",
     "output_type": "stream",
     "text": [
      "Man acts as though he were the shaper and master of language, while in fact language remains the master of man.\n",
      "Man NOUN\n",
      "acts VERB\n",
      "as SCONJ\n",
      "though SCONJ\n",
      "he PRON\n",
      "were AUX\n",
      "the DET\n",
      "shaper NOUN\n",
      "and CCONJ\n",
      "master NOUN\n",
      "of ADP\n",
      "language NOUN\n",
      ", PUNCT\n",
      "while SCONJ\n",
      "in ADP\n",
      "fact NOUN\n",
      "language NOUN\n",
      "remains VERB\n",
      "the DET\n",
      "master NOUN\n",
      "of ADP\n",
      "man NOUN\n",
      ". PUNCT\n"
     ]
    }
   ],
   "source": [
    "import spacy\n",
    "\n",
    "nlp = spacy.load('en')\n",
    "#nlp = spacy.load('en_core_web_sm')\n",
    "\n",
    "text = nlp('Man acts as though he were the shaper and master of language, while in fact language remains the master of man.')\n",
    "\n",
    "print(text)\n",
    "\n",
    "for token in text:\n",
    "  print(token.text, token.pos_)"
   ]
  },
  {
   "cell_type": "markdown",
   "metadata": {},
   "source": [
    "## 2. Natural Language Toolkit / NLTK"
   ]
  },
  {
   "cell_type": "code",
   "execution_count": 13,
   "metadata": {},
   "outputs": [
    {
     "name": "stdout",
     "output_type": "stream",
     "text": [
      "['Man', 'acts', 'as', 'though', 'he', 'were', 'the', 'shaper', 'and', 'master', 'of', 'language', ',', 'while', 'in', 'fact', 'language', 'remains', 'the', 'master', 'of', 'man', '.']\n",
      "\n",
      "\n",
      "[('Man', 'NN'), ('acts', 'VBZ')]\n"
     ]
    }
   ],
   "source": [
    "import nltk\n",
    "\n",
    "text = 'Man acts as though he were the shaper and master of language, while in fact language remains the master of man.'\n",
    "\n",
    "tokens = nltk.word_tokenize(text)\n",
    "print(tokens)\n",
    "print(\"\\n\")\n",
    "\n",
    "tagged_tokens = nltk.pos_tag(tokens)\n",
    "print(tagged_tokens[0:2])"
   ]
  },
  {
   "cell_type": "markdown",
   "metadata": {
    "collapsed": true
   },
   "source": [
    "## 3. TextBlob"
   ]
  },
  {
   "cell_type": "code",
   "execution_count": 21,
   "metadata": {},
   "outputs": [
    {
     "name": "stdout",
     "output_type": "stream",
     "text": [
      "0.0\n"
     ]
    }
   ],
   "source": [
    "from textblob import TextBlob\n",
    "\n",
    "text = 'Uhuru calls Raila muguruki'\n",
    "\n",
    "text_blob = TextBlob(text)\n",
    "\n",
    "#print(text_blob.tags)\n",
    "\n",
    "for sentence in text_blob.sentences:\n",
    "    print(sentence.sentiment.polarity)"
   ]
  },
  {
   "cell_type": "markdown",
   "metadata": {},
   "source": [
    "## 4. PolyGlot"
   ]
  },
  {
   "cell_type": "code",
   "execution_count": 22,
   "metadata": {},
   "outputs": [
    {
     "ename": "ModuleNotFoundError",
     "evalue": "No module named 'polyglot'",
     "output_type": "error",
     "traceback": [
      "\u001b[1;31m---------------------------------------------------------------------------\u001b[0m",
      "\u001b[1;31mModuleNotFoundError\u001b[0m                       Traceback (most recent call last)",
      "\u001b[1;32m<ipython-input-22-9b15b4baa22b>\u001b[0m in \u001b[0;36m<module>\u001b[1;34m()\u001b[0m\n\u001b[1;32m----> 1\u001b[1;33m \u001b[1;32mimport\u001b[0m \u001b[0mpolyglot\u001b[0m\u001b[1;33m\u001b[0m\u001b[0m\n\u001b[0m\u001b[0;32m      2\u001b[0m \u001b[1;32mfrom\u001b[0m \u001b[0mpolyglot\u001b[0m\u001b[1;33m.\u001b[0m\u001b[0mtext\u001b[0m \u001b[1;32mimport\u001b[0m \u001b[0mText\u001b[0m\u001b[1;33m,\u001b[0m \u001b[0mWord\u001b[0m\u001b[1;33m\u001b[0m\u001b[0m\n\u001b[0;32m      3\u001b[0m \u001b[1;33m\u001b[0m\u001b[0m\n\u001b[0;32m      4\u001b[0m \u001b[0mtext_english\u001b[0m \u001b[1;33m=\u001b[0m \u001b[0mText\u001b[0m\u001b[1;33m(\u001b[0m\u001b[1;34m'Man acts as though he were the shaper and master of language, while in fact language remains the master of man.'\u001b[0m\u001b[1;33m)\u001b[0m\u001b[1;33m\u001b[0m\u001b[0m\n\u001b[0;32m      5\u001b[0m \u001b[0mtext_german\u001b[0m \u001b[1;33m=\u001b[0m \u001b[0mText\u001b[0m\u001b[1;33m(\u001b[0m\u001b[1;34m'Der Mensch gebärdet sich, als sei er Bildner und Meister der Sprache, während doch sie die Herrin der Menschen bleibt.'\u001b[0m\u001b[1;33m)\u001b[0m\u001b[1;33m\u001b[0m\u001b[0m\n",
      "\u001b[1;31mModuleNotFoundError\u001b[0m: No module named 'polyglot'"
     ]
    }
   ],
   "source": [
    "import polyglot\n",
    "from polyglot.text import Text, Word\n",
    "\n",
    "text_english = Text('Man acts as though he were the shaper and master of language, while in fact language remains the master of man.')\n",
    "text_german = Text('Der Mensch gebärdet sich, als sei er Bildner und Meister der Sprache, während doch sie die Herrin der Menschen bleibt.')\n",
    "\n",
    "print(text_english.language.name)\n",
    "print(text_german.language.name)"
   ]
  },
  {
   "cell_type": "code",
   "execution_count": null,
   "metadata": {
    "collapsed": true
   },
   "outputs": [],
   "source": []
  }
 ],
 "metadata": {
  "kernelspec": {
   "display_name": "Python 3",
   "language": "python",
   "name": "python3"
  },
  "language_info": {
   "codemirror_mode": {
    "name": "ipython",
    "version": 3
   },
   "file_extension": ".py",
   "mimetype": "text/x-python",
   "name": "python",
   "nbconvert_exporter": "python",
   "pygments_lexer": "ipython3",
   "version": "3.6.3"
  }
 },
 "nbformat": 4,
 "nbformat_minor": 2
}
