{
 "cells": [
  {
   "cell_type": "markdown",
   "metadata": {},
   "source": [
    "# spaCy Text Analysis App\n",
    "\n",
    "Text Source - Kenya BBI Report 2019\n",
    "https://d2s5ggbxczybtf.cloudfront.net/bbireport.pdf\n"
   ]
  },
  {
   "cell_type": "markdown",
   "metadata": {},
   "source": [
    "## 1. Select Text File"
   ]
  },
  {
   "cell_type": "code",
   "execution_count": 1,
   "metadata": {},
   "outputs": [
    {
     "name": "stdout",
     "output_type": "stream",
     "text": [
      "D:/AnacondaProjects/NLP/Kenya BBI Report 2019.pdf\n"
     ]
    }
   ],
   "source": [
    "# Using the Tkinter graphical user interface (GUI) to select text file\n",
    "\n",
    "from tkinter import filedialog\n",
    "from tkinter import *\n",
    "import os\n",
    "\n",
    "root = Tk()\n",
    "cwd = os.getcwd() # get current working directory\n",
    "root.filename = filedialog.askopenfilename(initialdir = cwd,title = \"Select file\",filetypes = ((\"all files\",\"*.*\"),(\"plain text\",\"*.txt\"),('pdf','*.pdf')))\n",
    "\n",
    "print(root.filename)"
   ]
  },
  {
   "cell_type": "markdown",
   "metadata": {},
   "source": [
    "## 2. Extract Text"
   ]
  },
  {
   "cell_type": "code",
   "execution_count": 4,
   "metadata": {},
   "outputs": [],
   "source": [
    "# Extracting text from the file using Apache Tika\n",
    "\n",
    "# **** #encodedData.close() # closes the file reading data  --- REMOVED BY KENNEDY KK 01-dec-2019\n",
    "#      To sort 'bytes' object has no attribute 'close' == BUG to be sorted in 1.23 by @\tchrismattmann\n",
    "\n",
    "import tika\n",
    "#tika.TikaClientOnly = True\n",
    "\n",
    "from tika import unpack\n",
    "#from tika import parser\n",
    "\n",
    "parsed = unpack.from_file(root.filename)\n",
    "#parsed = parser.from_file(root.filename, xmlContent=True)\n",
    "\n",
    "# print(parsed[\"metadata\"])\n",
    "text=parsed[\"content\"]   #text extracted from the file, as a continuous string"
   ]
  },
  {
   "cell_type": "markdown",
   "metadata": {},
   "source": [
    "## 3. Process text - spaCy"
   ]
  },
  {
   "cell_type": "code",
   "execution_count": 5,
   "metadata": {},
   "outputs": [
    {
     "data": {
      "text/plain": [
       "(6596, 6596, 6596, 6596)"
      ]
     },
     "execution_count": 5,
     "metadata": {},
     "output_type": "execute_result"
    }
   ],
   "source": [
    "import spacy\n",
    "#loading the SpaCy 'small' model\n",
    "nlp = spacy.load(\"en_core_web_sm\")\n",
    "\n",
    "#Processing the text\n",
    "doc = nlp(text)\n",
    "\n",
    "#obtaining entity information\n",
    "ent_text=[]\n",
    "ent_label=[]\n",
    "ent_sentence=[]\n",
    "for entity in doc.ents:\n",
    "    ent_text.append(entity.text) #the entity's text\n",
    "    ent_label.append(entity.label_) # the type of entity, a string e.g. PERSON,GPE, etc\n",
    "    ent_sentence.append(entity.sent.text.replace('\\n',' ')) # a sentence with the entity, as one line with newline - \\n - removed\n",
    "\n",
    "len(ent_label),len(ent_text),len(ent_sentence),len(doc.ents) # check number of entities + related info"
   ]
  },
  {
   "cell_type": "markdown",
   "metadata": {},
   "source": [
    "## 4. Export extracted info to file"
   ]
  },
  {
   "cell_type": "code",
   "execution_count": 6,
   "metadata": {},
   "outputs": [
    {
     "data": {
      "text/html": [
       "<div>\n",
       "<style scoped>\n",
       "    .dataframe tbody tr th:only-of-type {\n",
       "        vertical-align: middle;\n",
       "    }\n",
       "\n",
       "    .dataframe tbody tr th {\n",
       "        vertical-align: top;\n",
       "    }\n",
       "\n",
       "    .dataframe thead th {\n",
       "        text-align: right;\n",
       "    }\n",
       "</style>\n",
       "<table border=\"1\" class=\"dataframe\">\n",
       "  <thead>\n",
       "    <tr style=\"text-align: right;\">\n",
       "      <th></th>\n",
       "      <th>Entity</th>\n",
       "      <th>Type</th>\n",
       "      <th>Context</th>\n",
       "    </tr>\n",
       "  </thead>\n",
       "  <tbody>\n",
       "    <tr>\n",
       "      <th>0</th>\n",
       "      <td>THE PRESIDENTIAL</td>\n",
       "      <td>ORG</td>\n",
       "      <td>A REPORT BY THE PRESIDENTIAL</td>\n",
       "    </tr>\n",
       "    <tr>\n",
       "      <th>1</th>\n",
       "      <td>UNITY ADVISORY  \\nOCTOBER</td>\n",
       "      <td>ORG</td>\n",
       "      <td>ON BUILDING BRIDGES TO UNITY ADVISORY   OCTOBE...</td>\n",
       "    </tr>\n",
       "    <tr>\n",
       "      <th>2</th>\n",
       "      <td>2019</td>\n",
       "      <td>DATE</td>\n",
       "      <td>ON BUILDING BRIDGES TO UNITY ADVISORY   OCTOBE...</td>\n",
       "    </tr>\n",
       "    <tr>\n",
       "      <th>3</th>\n",
       "      <td>Kenyatta International Convention Centre</td>\n",
       "      <td>ORG</td>\n",
       "      <td>Kenyatta International Convention Centre, Nair...</td>\n",
       "    </tr>\n",
       "    <tr>\n",
       "      <th>4</th>\n",
       "      <td>Nairobi</td>\n",
       "      <td>GPE</td>\n",
       "      <td>Kenyatta International Convention Centre, Nair...</td>\n",
       "    </tr>\n",
       "  </tbody>\n",
       "</table>\n",
       "</div>"
      ],
      "text/plain": [
       "                                     Entity  Type  \\\n",
       "0                          THE PRESIDENTIAL   ORG   \n",
       "1                 UNITY ADVISORY  \\nOCTOBER   ORG   \n",
       "2                                      2019  DATE   \n",
       "3  Kenyatta International Convention Centre   ORG   \n",
       "4                                   Nairobi   GPE   \n",
       "\n",
       "                                             Context  \n",
       "0                       A REPORT BY THE PRESIDENTIAL  \n",
       "1  ON BUILDING BRIDGES TO UNITY ADVISORY   OCTOBE...  \n",
       "2  ON BUILDING BRIDGES TO UNITY ADVISORY   OCTOBE...  \n",
       "3  Kenyatta International Convention Centre, Nair...  \n",
       "4  Kenyatta International Convention Centre, Nair...  "
      ]
     },
     "execution_count": 6,
     "metadata": {},
     "output_type": "execute_result"
    }
   ],
   "source": [
    "#Saving the information as a dataframe\n",
    "import pandas as pd\n",
    "df=pd.DataFrame({'Entity': ent_text,'Type': ent_label,'Context':ent_sentence})\n",
    "df.head()"
   ]
  },
  {
   "cell_type": "code",
   "execution_count": 7,
   "metadata": {
    "collapsed": true
   },
   "outputs": [],
   "source": [
    "#Separating info for each entity. This gives a list of (label, label_dataframe) tuples.\n",
    "entities=list(df.groupby('Type'))\n",
    "\n",
    "#Exporting the entity info into an excel file, with a sheet for each type:\n",
    "save_dir=filedialog.askdirectory(title='Select destination directory') # a GUI to select destination directory\n",
    "with pd.ExcelWriter(save_dir+'/BBI-mining.xlsx') as writer:\n",
    "    for x in entities:\n",
    "        x[1].to_excel(writer, sheet_name=x[0], index=False)\n",
    "        \n",
    "print(\"=== DONE ===\")"
   ]
  },
  {
   "cell_type": "code",
   "execution_count": null,
   "metadata": {
    "collapsed": true
   },
   "outputs": [],
   "source": []
  }
 ],
 "metadata": {
  "kernelspec": {
   "display_name": "Python 3",
   "language": "python",
   "name": "python3"
  },
  "language_info": {
   "codemirror_mode": {
    "name": "ipython",
    "version": 3
   },
   "file_extension": ".py",
   "mimetype": "text/x-python",
   "name": "python",
   "nbconvert_exporter": "python",
   "pygments_lexer": "ipython3",
   "version": "3.6.3"
  }
 },
 "nbformat": 4,
 "nbformat_minor": 2
}
